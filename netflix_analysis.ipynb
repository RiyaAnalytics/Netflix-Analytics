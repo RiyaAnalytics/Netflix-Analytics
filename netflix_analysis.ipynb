{
 "cells": [
  {
   "cell_type": "code",
   "execution_count": 1,
   "id": "5c96f7a7",
   "metadata": {},
   "outputs": [
    {
     "name": "stdout",
     "output_type": "stream",
     "text": [
      "Generated netflix_data.csv with 250 rows\n"
     ]
    }
   ],
   "source": [
    "import pandas as pd\n",
    "import random\n",
    "from datetime import datetime\n",
    "\n",
    "# Define lists for random data\n",
    "titles = [f\"Show_{i}\" for i in range(1, 100)] + [f\"Movie_{i}\" for i in range(1, 150)]\n",
    "types = ['Movie', 'TV Show']\n",
    "genres = ['Drama', 'Comedy', 'Action', 'Documentary', 'Sci-Fi', 'Romance', 'Thriller']\n",
    "countries = ['USA', 'India', 'UK', 'Japan', 'Brazil', 'Canada', 'France']\n",
    "ratings = ['PG', 'PG-13', 'R', 'TV-MA', 'TV-14', 'TV-PG']\n",
    "\n",
    "# Generate 250 rows\n",
    "data = []\n",
    "for i in range(250):\n",
    "    title = random.choice(titles)\n",
    "    content_type = random.choice(types)\n",
    "    genre = random.choice(genres) if random.random() > 0.05 else ''  # 5% missing\n",
    "    release_year = random.randint(2000, 2025) if random.random() > 0.05 else ''  # 5% missing\n",
    "    rating = random.choice(ratings)\n",
    "    duration = random.randint(20, 180) if content_type == 'Movie' else random.randint(1, 10)  # Movies: minutes, TV Shows: seasons\n",
    "    country = random.choice(countries) if random.random() > 0.05 else ''  # 5% missing\n",
    "    viewer_rating = round(random.uniform(1.0, 10.0), 1) if random.random() > 0.1 else ''  # 10% missing\n",
    "    data.append([title, content_type, genre, release_year, rating, duration, country, viewer_rating])\n",
    "\n",
    "# Create DataFrame\n",
    "df = pd.DataFrame(data, columns=['Title', 'Type', 'Genre', 'Release_Year', 'Rating', 'Duration', 'Country', 'Viewer_Rating'])\n",
    "\n",
    "# Save to CSV\n",
    "df.to_csv('netflix_data.csv', index=False)\n",
    "print(\"Generated netflix_data.csv with 250 rows\")"
   ]
  },
  {
   "cell_type": "code",
   "execution_count": 2,
   "id": "05193718",
   "metadata": {},
   "outputs": [
    {
     "name": "stdout",
     "output_type": "stream",
     "text": [
      "      Title     Type     Genre  Release_Year Rating  Duration Country  \\\n",
      "0  Movie_19  TV Show     Drama        2025.0      R         5  Canada   \n",
      "1   Show_12  TV Show     Drama        2016.0  TV-MA         4   Japan   \n",
      "2    Show_4  TV Show    Comedy        2008.0      R         8      UK   \n",
      "3   Show_34    Movie  Thriller        2005.0  TV-14        84      UK   \n",
      "4  Movie_55    Movie   Romance        2002.0  PG-13        21  Brazil   \n",
      "\n",
      "   Viewer_Rating  \n",
      "0            2.7  \n",
      "1            7.5  \n",
      "2            9.3  \n",
      "3            NaN  \n",
      "4            1.5  \n",
      "Title             0\n",
      "Type              0\n",
      "Genre            11\n",
      "Release_Year      5\n",
      "Rating            0\n",
      "Duration          0\n",
      "Country          11\n",
      "Viewer_Rating    27\n",
      "dtype: int64\n"
     ]
    }
   ],
   "source": [
    "# Load data\n",
    "df = pd.read_csv('netflix_data.csv')\n",
    "\n",
    "# Display first 5 rows\n",
    "print(df.head())\n",
    "\n",
    "# Check for missing values\n",
    "print(df.isnull().sum())"
   ]
  },
  {
   "cell_type": "code",
   "execution_count": 3,
   "id": "13a9875e",
   "metadata": {},
   "outputs": [
    {
     "name": "stdout",
     "output_type": "stream",
     "text": [
      "Title            0\n",
      "Type             0\n",
      "Genre            0\n",
      "Release_Year     0\n",
      "Rating           0\n",
      "Duration         0\n",
      "Country          0\n",
      "Viewer_Rating    0\n",
      "dtype: int64\n"
     ]
    }
   ],
   "source": [
    "# Fill missing Genre with 'Unknown'\n",
    "df['Genre'] = df['Genre'].fillna('Unknown')\n",
    "\n",
    "# Fill missing Release_Year with median\n",
    "df['Release_Year'] = df['Release_Year'].fillna(df['Release_Year'].median())\n",
    "\n",
    "# Fill missing Country with 'Unknown'\n",
    "df['Country'] = df['Country'].fillna('Unknown')\n",
    "\n",
    "# Fill missing Viewer_Rating with mean\n",
    "df['Viewer_Rating'] = df['Viewer_Rating'].fillna(df['Viewer_Rating'].mean())\n",
    "\n",
    "# Verify no missing values\n",
    "print(df.isnull().sum())"
   ]
  },
  {
   "cell_type": "code",
   "execution_count": 4,
   "id": "55060fe6",
   "metadata": {},
   "outputs": [
    {
     "name": "stdout",
     "output_type": "stream",
     "text": [
      "Rows after removing duplicates: 159\n"
     ]
    }
   ],
   "source": [
    "# Remove duplicate titles\n",
    "df = df.drop_duplicates(subset='Title', keep='first')\n",
    "print(f\"Rows after removing duplicates: {len(df)}\")"
   ]
  },
  {
   "cell_type": "code",
   "execution_count": 5,
   "id": "f9de141b",
   "metadata": {},
   "outputs": [],
   "source": [
    "df['Release_Year'] = df['Release_Year'].astype(int)"
   ]
  },
  {
   "cell_type": "code",
   "execution_count": 6,
   "id": "7c0beb82",
   "metadata": {},
   "outputs": [
    {
     "name": "stdout",
     "output_type": "stream",
     "text": [
      "           Title   Type     Genre  Release_Year Rating    Duration Country  \\\n",
      "count        159    159       159    159.000000    159  159.000000     159   \n",
      "unique       159      2         8           NaN      6         NaN       8   \n",
      "top     Movie_19  Movie  Thriller           NaN     PG         NaN  Brazil   \n",
      "freq           1     86        28           NaN     33         NaN      29   \n",
      "mean         NaN    NaN       NaN   2013.081761    NaN   56.345912     NaN   \n",
      "std          NaN    NaN       NaN      7.396517    NaN   58.775801     NaN   \n",
      "min          NaN    NaN       NaN   2000.000000    NaN    1.000000     NaN   \n",
      "25%          NaN    NaN       NaN   2007.000000    NaN    6.000000     NaN   \n",
      "50%          NaN    NaN       NaN   2012.000000    NaN   32.000000     NaN   \n",
      "75%          NaN    NaN       NaN   2020.000000    NaN  111.500000     NaN   \n",
      "max          NaN    NaN       NaN   2025.000000    NaN  176.000000     NaN   \n",
      "\n",
      "        Viewer_Rating  \n",
      "count      159.000000  \n",
      "unique            NaN  \n",
      "top               NaN  \n",
      "freq              NaN  \n",
      "mean         5.888688  \n",
      "std          2.546300  \n",
      "min          1.100000  \n",
      "25%          3.800000  \n",
      "50%          5.721525  \n",
      "75%          7.900000  \n",
      "max          9.900000  \n"
     ]
    }
   ],
   "source": [
    "# Summary statistics\n",
    "print(df.describe(include='all'))"
   ]
  },
  {
   "cell_type": "code",
   "execution_count": 7,
   "id": "68526e54",
   "metadata": {},
   "outputs": [
    {
     "name": "stdout",
     "output_type": "stream",
     "text": [
      "Genre Distribution:\n",
      " Genre\n",
      "Thriller       28\n",
      "Documentary    27\n",
      "Drama          25\n",
      "Romance        24\n",
      "Action         20\n",
      "Sci-Fi         15\n",
      "Comedy         13\n",
      "Unknown         7\n",
      "Name: count, dtype: int64\n",
      "Average Viewer Rating by Country:\n",
      " Country\n",
      "UK         6.755917\n",
      "India      6.363229\n",
      "USA        6.070139\n",
      "Unknown    5.962500\n",
      "Japan      5.780169\n",
      "France     5.697524\n",
      "Canada     5.688845\n",
      "Brazil     5.044828\n",
      "Name: Viewer_Rating, dtype: float64\n"
     ]
    }
   ],
   "source": [
    "# Genre distribution\n",
    "genre_counts = df['Genre'].value_counts()\n",
    "print(\"Genre Distribution:\\n\", genre_counts)\n",
    "\n",
    "# Average viewer rating by country\n",
    "country_ratings = df.groupby('Country')['Viewer_Rating'].mean().sort_values(ascending=False)\n",
    "print(\"Average Viewer Rating by Country:\\n\", country_ratings)"
   ]
  },
  {
   "cell_type": "code",
   "execution_count": 8,
   "id": "65e0f5c9",
   "metadata": {},
   "outputs": [
    {
     "data": {
      "image/png": "[encoded data removed]",
      "text/plain": [
       "<Figure size 1000x600 with 1 Axes>"
      ]
     },
     "metadata": {},
     "output_type": "display_data"
    }
   ],
   "source": [
    "import matplotlib.pyplot as plt\n",
    "import seaborn as sns\n",
    "\n",
    "plt.figure(figsize=(10, 6))\n",
    "sns.countplot(data=df, x='Genre', order=genre_counts.index)\n",
    "plt.title('Distribution of Netflix Content by Genre')\n",
    "plt.xlabel('Genre')\n",
    "plt.ylabel('Count')\n",
    "plt.xticks(rotation=45)\n",
    "plt.savefig('genre_distribution.png')\n",
    "plt.show()"
   ]
  },
  {
   "cell_type": "code",
   "execution_count": 9,
   "id": "0f6dd302",
   "metadata": {},
   "outputs": [
    {
     "data": {
      "image/png": "[encoded data removed]",
      "text/plain": [
       "<Figure size 1000x600 with 1 Axes>"
      ]
     },
     "metadata": {},
     "output_type": "display_data"
    }
   ],
   "source": [
    "yearly_counts = df['Release_Year'].value_counts().sort_index()\n",
    "plt.figure(figsize=(10, 6))\n",
    "plt.plot(yearly_counts.index, yearly_counts.values, marker='o')\n",
    "plt.title('Netflix Content Releases by Year')\n",
    "plt.xlabel('Release Year')\n",
    "plt.ylabel('Number of Titles')\n",
    "plt.grid(True)\n",
    "plt.savefig('release_trend.png')\n",
    "plt.show()"
   ]
  },
  {
   "cell_type": "code",
   "execution_count": 10,
   "id": "db98bf6e",
   "metadata": {},
   "outputs": [
    {
     "data": {
      "application/vnd.plotly.v1+json": {
       "config": {
        "plotlyServerURL": "https://plot.ly"
       },
       "data": [
        {
         "alignmentgroup": "True",
         "hovertemplate": "Country=%{x}<br>Viewer_Rating=%{y}<extra></extra>",
         "legendgroup": "",
         "marker": {
          "color": "#636efa"
         },
         "name": "",
         "notched": false,
         "offsetgroup": "",
         "orientation": "v",
         "showlegend": false,
         "type": "box",
         "x": [
          "Canada",
          "Japan",
          "UK",
          "UK",
          "Brazil",
          "USA",
          "Unknown",
          "Canada",
          "UK",
          "Canada",
          "France",
          "France",
          "Brazil",
          "India",
          "India",
          "Canada",
          "USA",
          "USA",
          "India",
          "Japan",
          "Unknown",
          "USA",
          "UK",
          "France",
          "India",
          "UK",
          "India",
          "Canada",
          "France",
          "UK",
          "Brazil",
          "France",
          "Canada",
          "UK",
          "Brazil",
          "India",
          "Unknown",
          "UK",
          "UK",
          "France",
          "France",
          "Brazil",
          "UK",
          "India",
          "UK",
          "France",
          "India",
          "Canada",
          "Japan",
          "Japan",
          "UK",
          "France",
          "Japan",
          "USA",
          "Japan",
          "USA",
          "Canada",
          "USA",
          "India",
          "India",
          "Japan",
          "Japan",
          "Brazil",
          "Japan",
          "France",
          "Canada",
          "Brazil",
          "France",
          "Brazil",
          "Canada",
          "India",
          "France",
          "UK",
          "Canada",
          "Brazil",
          "UK",
          "UK",
          "USA",
          "UK",
          "Japan",
          "UK",
          "USA",
          "USA",
          "Japan",
          "Canada",
          "Unknown",
          "USA",
          "Brazil",
          "Unknown",
          "Brazil",
          "Japan",
          "Canada",
          "USA",
          "Canada",
          "Unknown",
          "Brazil",
          "USA",
          "India",
          "Brazil",
          "France",
          "Brazil",
          "Brazil",
          "Brazil",
          "Unknown",
          "France",
          "Japan",
          "Canada",
          "India",
          "Brazil",
          "France",
          "Japan",
          "USA",
          "Brazil",
          "India",
          "France",
          "India",
          "India",
          "France",
          "UK",
          "Canada",
          "Japan",
          "UK",
          "USA",
          "France",
          "UK",
          "Brazil",
          "Japan",
          "India",
          "Japan",
          "USA",
          "Unknown",
          "UK",
          "France",
          "Brazil",
          "Brazil",
          "USA",
          "USA",
          "Brazil",
          "France",
          "India",
          "Japan",
          "India",
          "France",
          "Brazil",
          "India",
          "USA",
          "Brazil",
          "France",
          "UK",
          "Brazil",
          "USA",
          "Brazil",
          "Brazil",
          "UK",
          "France",
          "Brazil",
          "USA",
          "Brazil",
          "USA"
         ],
         "x0": " ",
         "xaxis": "x",
         "y": [
          2.7,
          7.5,
          9.3,
          5.72152466367713,
          1.5,
          9.2,
          9.1,
          1.7,
          5.1,
          8,
          9.6,
          5.7,
          3.3,
          7.7,
          7.3,
          4.9,
          5.72152466367713,
          5.7,
          1.3,
          2.1,
          4.8,
          5.1,
          5.72152466367713,
          5.72152466367713,
          1.2,
          2.7,
          5.72152466367713,
          6.9,
          2,
          7.8,
          8.5,
          7.8,
          7,
          1.9,
          2.9,
          7.8,
          1.9,
          1.6,
          7.5,
          1.4,
          1.2,
          1.8,
          9,
          9,
          9.7,
          2.8,
          7.2,
          5.72152466367713,
          6.9,
          4.1,
          5.72152466367713,
          9.1,
          5.72152466367713,
          5.72152466367713,
          2.7,
          4.7,
          9.1,
          7.1,
          4.2,
          5.72152466367713,
          8.5,
          4.2,
          3.2,
          9.8,
          8.7,
          3.3,
          1.3,
          3.5,
          2.1,
          6,
          7.5,
          9.5,
          8.7,
          8.8,
          1.1,
          7.7,
          3.7,
          7,
          7.7,
          9.5,
          6.7,
          5.6,
          8.3,
          9,
          9.5,
          9.9,
          1.2,
          5.2,
          3.5,
          7.5,
          2.1,
          2.2,
          9.5,
          9.8,
          5.1,
          5.9,
          5.6,
          9.3,
          5.6,
          6.3,
          6.3,
          9.1,
          9.1,
          7.1,
          5.9,
          5.1,
          2.2,
          3.6,
          2.8,
          4,
          9,
          6.9,
          5.5,
          9.1,
          7.4,
          7.6,
          4,
          3.1,
          9.2,
          3.2,
          5.72152466367713,
          7.8,
          7.4,
          8.8,
          8.1,
          7.7,
          5.9,
          5.72152466367713,
          4.2,
          6.8,
          6.3,
          9.9,
          3.9,
          8.8,
          7.4,
          3.5,
          3.6,
          3.1,
          5.72152466367713,
          8.3,
          2,
          8,
          9.1,
          5.2,
          7,
          7.1,
          9.2,
          4,
          5.72152466367713,
          4.7,
          3.9,
          2.6,
          2,
          8.4,
          5.8,
          7.1,
          5.6,
          5.8,
          8.3
         ],
         "y0": " ",
         "yaxis": "y"
        }
       ],
       "layout": {
        "boxmode": "group",
        "legend": {
         "tracegroupgap": 0
        },
        "template": {
         "data": {
          "bar": [
           {
            "error_x": {
             "color": "#2a3f5f"
            },
            "error_y": {
             "color": "#2a3f5f"
            },
            "marker": {
             "line": {
              "color": "#E5ECF6",
              "width": 0.5
             },
             "pattern": {
              "fillmode": "overlay",
              "size": 10,
              "solidity": 0.2
             }
            },
            "type": "bar"
           }
          ],
          "barpolar": [
           {
            "marker": {
             "line": {
              "color": "#E5ECF6",
              "width": 0.5
             },
             "pattern": {
              "fillmode": "overlay",
              "size": 10,
              "solidity": 0.2
             }
            },
            "type": "barpolar"
           }
          ],
          "carpet": [
           {
            "aaxis": {
             "endlinecolor": "#2a3f5f",
             "gridcolor": "white",
             "linecolor": "white",
             "minorgridcolor": "white",
             "startlinecolor": "#2a3f5f"
            },
            "baxis": {
             "endlinecolor": "#2a3f5f",
             "gridcolor": "white",
             "linecolor": "white",
             "minorgridcolor": "white",
             "startlinecolor": "#2a3f5f"
            },
            "type": "carpet"
           }
          ],
          "choropleth": [
           {
            "colorbar": {
             "outlinewidth": 0,
             "ticks": ""
            },
            "type": "choropleth"
           }
          ],
          "contour": [
           {
            "colorbar": {
             "outlinewidth": 0,
             "ticks": ""
            },
            "colorscale": [
             [
              0,
              "#0d0887"
             ],
             [
              0.1111111111111111,
              "#46039f"
             ],
             [
              0.2222222222222222,
              "#7201a8"
             ],
             [
              0.3333333333333333,
              "#9c179e"
             ],
             [
              0.4444444444444444,
              "#bd3786"
             ],
             [
              0.5555555555555556,
              "#d8576b"
             ],
             [
              0.6666666666666666,
              "#ed7953"
             ],
             [
              0.7777777777777778,
              "#fb9f3a"
             ],
             [
              0.8888888888888888,
              "#fdca26"
             ],
             [
              1,
              "#f0f921"
             ]
            ],
            "type": "contour"
           }
          ],
          "contourcarpet": [
           {
            "colorbar": {
             "outlinewidth": 0,
             "ticks": ""
            },
            "type": "contourcarpet"
           }
          ],
          "heatmap": [
           {
            "colorbar": {
             "outlinewidth": 0,
             "ticks": ""
            },
            "colorscale": [
             [
              0,
              "#0d0887"
             ],
             [
              0.1111111111111111,
              "#46039f"
             ],
             [
              0.2222222222222222,
              "#7201a8"
             ],
             [
              0.3333333333333333,
              "#9c179e"
             ],
             [
              0.4444444444444444,
              "#bd3786"
             ],
             [
              0.5555555555555556,
              "#d8576b"
             ],
             [
              0.6666666666666666,
              "#ed7953"
             ],
             [
              0.7777777777777778,
              "#fb9f3a"
             ],
             [
              0.8888888888888888,
              "#fdca26"
             ],
             [
              1,
              "#f0f921"
             ]
            ],
            "type": "heatmap"
           }
          ],
          "heatmapgl": [
           {
            "colorbar": {
             "outlinewidth": 0,
             "ticks": ""
            },
            "colorscale": [
             [
              0,
              "#0d0887"
             ],
             [
              0.1111111111111111,
              "#46039f"
             ],
             [
              0.2222222222222222,
              "#7201a8"
             ],
             [
              0.3333333333333333,
              "#9c179e"
             ],
             [
              0.4444444444444444,
              "#bd3786"
             ],
             [
              0.5555555555555556,
              "#d8576b"
             ],
             [
              0.6666666666666666,
              "#ed7953"
             ],
             [
              0.7777777777777778,
              "#fb9f3a"
             ],
             [
              0.8888888888888888,
              "#fdca26"
             ],
             [
              1,
              "#f0f921"
             ]
            ],
            "type": "heatmapgl"
           }
          ],
          "histogram": [
           {
            "marker": {
             "pattern": {
              "fillmode": "overlay",
              "size": 10,
              "solidity": 0.2
             }
            },
            "type": "histogram"
           }
          ],
          "histogram2d": [
           {
            "colorbar": {
             "outlinewidth": 0,
             "ticks": ""
            },
            "colorscale": [
             [
              0,
              "#0d0887"
             ],
             [
              0.1111111111111111,
              "#46039f"
             ],
             [
              0.2222222222222222,
              "#7201a8"
             ],
             [
              0.3333333333333333,
              "#9c179e"
             ],
             [
              0.4444444444444444,
              "#bd3786"
             ],
             [
              0.5555555555555556,
              "#d8576b"
             ],
             [
              0.6666666666666666,
              "#ed7953"
             ],
             [
              0.7777777777777778,
              "#fb9f3a"
             ],
             [
              0.8888888888888888,
              "#fdca26"
             ],
             [
              1,
              "#f0f921"
             ]
            ],
            "type": "histogram2d"
           }
          ],
          "histogram2dcontour": [
           {
            "colorbar": {
             "outlinewidth": 0,
             "ticks": ""
            },
            "colorscale": [
             [
              0,
              "#0d0887"
             ],
             [
              0.1111111111111111,
              "#46039f"
             ],
             [
              0.2222222222222222,
              "#7201a8"
             ],
             [
              0.3333333333333333,
              "#9c179e"
             ],
             [
              0.4444444444444444,
              "#bd3786"
             ],
             [
              0.5555555555555556,
              "#d8576b"
             ],
             [
              0.6666666666666666,
              "#ed7953"
             ],
             [
              0.7777777777777778,
              "#fb9f3a"
             ],
             [
              0.8888888888888888,
              "#fdca26"
             ],
             [
              1,
              "#f0f921"
             ]
            ],
            "type": "histogram2dcontour"
           }
          ],
          "mesh3d": [
           {
            "colorbar": {
             "outlinewidth": 0,
             "ticks": ""
            },
            "type": "mesh3d"
           }
          ],
          "parcoords": [
           {
            "line": {
             "colorbar": {
              "outlinewidth": 0,
              "ticks": ""
             }
            },
            "type": "parcoords"
           }
          ],
          "pie": [
           {
            "automargin": true,
            "type": "pie"
           }
          ],
          "scatter": [
           {
            "fillpattern": {
             "fillmode": "overlay",
             "size": 10,
             "solidity": 0.2
            },
            "type": "scatter"
           }
          ],
          "scatter3d": [
           {
            "line": {
             "colorbar": {
              "outlinewidth": 0,
              "ticks": ""
             }
            },
            "marker": {
             "colorbar": {
              "outlinewidth": 0,
              "ticks": ""
             }
            },
            "type": "scatter3d"
           }
          ],
          "scattercarpet": [
           {
            "marker": {
             "colorbar": {
              "outlinewidth": 0,
              "ticks": ""
             }
            },
            "type": "scattercarpet"
           }
          ],
          "scattergeo": [
           {
            "marker": {
             "colorbar": {
              "outlinewidth": 0,
              "ticks": ""
             }
            },
            "type": "scattergeo"
           }
          ],
          "scattergl": [
           {
            "marker": {
             "colorbar": {
              "outlinewidth": 0,
              "ticks": ""
             }
            },
            "type": "scattergl"
           }
          ],
          "scattermapbox": [
           {
            "marker": {
             "colorbar": {
              "outlinewidth": 0,
              "ticks": ""
             }
            },
            "type": "scattermapbox"
           }
          ],
          "scatterpolar": [
           {
            "marker": {
             "colorbar": {
              "outlinewidth": 0,
              "ticks": ""
             }
            },
            "type": "scatterpolar"
           }
          ],
          "scatterpolargl": [
           {
            "marker": {
             "colorbar": {
              "outlinewidth": 0,
              "ticks": ""
             }
            },
            "type": "scatterpolargl"
           }
          ],
          "scatterternary": [
           {
            "marker": {
             "colorbar": {
              "outlinewidth": 0,
              "ticks": ""
             }
            },
            "type": "scatterternary"
           }
          ],
          "surface": [
           {
            "colorbar": {
             "outlinewidth": 0,
             "ticks": ""
            },
            "colorscale": [
             [
              0,
              "#0d0887"
             ],
             [
              0.1111111111111111,
              "#46039f"
             ],
             [
              0.2222222222222222,
              "#7201a8"
             ],
             [
              0.3333333333333333,
              "#9c179e"
             ],
             [
              0.4444444444444444,
              "#bd3786"
             ],
             [
              0.5555555555555556,
              "#d8576b"
             ],
             [
              0.6666666666666666,
              "#ed7953"
             ],
             [
              0.7777777777777778,
              "#fb9f3a"
             ],
             [
              0.8888888888888888,
              "#fdca26"
             ],
             [
              1,
              "#f0f921"
             ]
            ],
            "type": "surface"
           }
          ],
          "table": [
           {
            "cells": {
             "fill": {
              "color": "#EBF0F8"
             },
             "line": {
              "color": "white"
             }
            },
            "header": {
             "fill": {
              "color": "#C8D4E3"
             },
             "line": {
              "color": "white"
             }
            },
            "type": "table"
           }
          ]
         },
         "layout": {
          "annotationdefaults": {
           "arrowcolor": "#2a3f5f",
           "arrowhead": 0,
           "arrowwidth": 1
          },
          "autotypenumbers": "strict",
          "coloraxis": {
           "colorbar": {
            "outlinewidth": 0,
            "ticks": ""
           }
          },
          "colorscale": {
           "diverging": [
            [
             0,
             "#8e0152"
            ],
            [
             0.1,
             "#c51b7d"
            ],
            [
             0.2,
             "#de77ae"
            ],
            [
             0.3,
             "#f1b6da"
            ],
            [
             0.4,
             "#fde0ef"
            ],
            [
             0.5,
             "#f7f7f7"
            ],
            [
             0.6,
             "#e6f5d0"
            ],
            [
             0.7,
             "#b8e186"
            ],
            [
             0.8,
             "#7fbc41"
            ],
            [
             0.9,
             "#4d9221"
            ],
            [
             1,
             "#276419"
            ]
           ],
           "sequential": [
            [
             0,
             "#0d0887"
            ],
            [
             0.1111111111111111,
             "#46039f"
            ],
            [
             0.2222222222222222,
             "#7201a8"
            ],
            [
             0.3333333333333333,
             "#9c179e"
            ],
            [
             0.4444444444444444,
             "#bd3786"
            ],
            [
             0.5555555555555556,
             "#d8576b"
            ],
            [
             0.6666666666666666,
             "#ed7953"
            ],
            [
             0.7777777777777778,
             "#fb9f3a"
            ],
            [
             0.8888888888888888,
             "#fdca26"
            ],
            [
             1,
             "#f0f921"
            ]
           ],
           "sequentialminus": [
            [
             0,
             "#0d0887"
            ],
            [
             0.1111111111111111,
             "#46039f"
            ],
            [
             0.2222222222222222,
             "#7201a8"
            ],
            [
             0.3333333333333333,
             "#9c179e"
            ],
            [
             0.4444444444444444,
             "#bd3786"
            ],
            [
             0.5555555555555556,
             "#d8576b"
            ],
            [
             0.6666666666666666,
             "#ed7953"
            ],
            [
             0.7777777777777778,
             "#fb9f3a"
            ],
            [
             0.8888888888888888,
             "#fdca26"
            ],
            [
             1,
             "#f0f921"
            ]
           ]
          },
          "colorway": [
           "#636efa",
           "#EF553B",
           "#00cc96",
           "#ab63fa",
           "#FFA15A",
           "#19d3f3",
           "#FF6692",
           "#B6E880",
           "#FF97FF",
           "#FECB52"
          ],
          "font": {
           "color": "#2a3f5f"
          },
          "geo": {
           "bgcolor": "white",
           "lakecolor": "white",
           "landcolor": "#E5ECF6",
           "showlakes": true,
           "showland": true,
           "subunitcolor": "white"
          },
          "hoverlabel": {
           "align": "left"
          },
          "hovermode": "closest",
          "mapbox": {
           "style": "light"
          },
          "paper_bgcolor": "white",
          "plot_bgcolor": "#E5ECF6",
          "polar": {
           "angularaxis": {
            "gridcolor": "white",
            "linecolor": "white",
            "ticks": ""
           },
           "bgcolor": "#E5ECF6",
           "radialaxis": {
            "gridcolor": "white",
            "linecolor": "white",
            "ticks": ""
           }
          },
          "scene": {
           "xaxis": {
            "backgroundcolor": "#E5ECF6",
            "gridcolor": "white",
            "gridwidth": 2,
            "linecolor": "white",
            "showbackground": true,
            "ticks": "",
            "zerolinecolor": "white"
           },
           "yaxis": {
            "backgroundcolor": "#E5ECF6",
            "gridcolor": "white",
            "gridwidth": 2,
            "linecolor": "white",
            "showbackground": true,
            "ticks": "",
            "zerolinecolor": "white"
           },
           "zaxis": {
            "backgroundcolor": "#E5ECF6",
            "gridcolor": "white",
            "gridwidth": 2,
            "linecolor": "white",
            "showbackground": true,
            "ticks": "",
            "zerolinecolor": "white"
           }
          },
          "shapedefaults": {
           "line": {
            "color": "#2a3f5f"
           }
          },
          "ternary": {
           "aaxis": {
            "gridcolor": "white",
            "linecolor": "white",
            "ticks": ""
           },
           "baxis": {
            "gridcolor": "white",
            "linecolor": "white",
            "ticks": ""
           },
           "bgcolor": "#E5ECF6",
           "caxis": {
            "gridcolor": "white",
            "linecolor": "white",
            "ticks": ""
           }
          },
          "title": {
           "x": 0.05
          },
          "xaxis": {
           "automargin": true,
           "gridcolor": "white",
           "linecolor": "white",
           "ticks": "",
           "title": {
            "standoff": 15
           },
           "zerolinecolor": "white",
           "zerolinewidth": 2
          },
          "yaxis": {
           "automargin": true,
           "gridcolor": "white",
           "linecolor": "white",
           "ticks": "",
           "title": {
            "standoff": 15
           },
           "zerolinecolor": "white",
           "zerolinewidth": 2
          }
         }
        },
        "title": {
         "text": "Viewer Ratings by Country"
        },
        "xaxis": {
         "anchor": "y",
         "domain": [
          0,
          1
         ],
         "title": {
          "text": "Country"
         }
        },
        "yaxis": {
         "anchor": "x",
         "domain": [
          0,
          1
         ],
         "title": {
          "text": "Viewer Rating (1-10)"
         }
        }
       }
      }
     },
     "metadata": {},
     "output_type": "display_data"
    }
   ],
   "source": [
    "import plotly.express as px\n",
    "\n",
    "fig = px.box(df, x='Country', y='Viewer_Rating', title='Viewer Ratings by Country')\n",
    "fig.update_layout(xaxis_title='Country', yaxis_title='Viewer Rating (1-10)')\n",
    "fig.write_html('ratings_by_country.html')\n",
    "fig.show()"
   ]
  },
  {
   "cell_type": "code",
   "execution_count": 2,
   "id": "7b62509f",
   "metadata": {},
   "outputs": [
    {
     "name": "stdout",
     "output_type": "stream",
     "text": [
      "Requirement already satisfied: dash in c:\\users\\riyap\\onedrive\\my practice python environment\\netflix_project\\venv\\lib\\site-packages (3.0.4)\n",
      "Requirement already satisfied: Flask<3.1,>=1.0.4 in c:\\users\\riyap\\onedrive\\my practice python environment\\netflix_project\\venv\\lib\\site-packages (from dash) (3.0.3)\n",
      "Requirement already satisfied: Werkzeug<3.1 in c:\\users\\riyap\\onedrive\\my practice python environment\\netflix_project\\venv\\lib\\site-packages (from dash) (3.0.6)\n",
      "Requirement already satisfied: plotly>=5.0.0 in c:\\users\\riyap\\onedrive\\my practice python environment\\netflix_project\\venv\\lib\\site-packages (from dash) (6.1.2)\n",
      "Requirement already satisfied: importlib-metadata in c:\\users\\riyap\\onedrive\\my practice python environment\\netflix_project\\venv\\lib\\site-packages (from dash) (8.7.0)\n",
      "Requirement already satisfied: typing-extensions>=4.1.1 in c:\\users\\riyap\\onedrive\\my practice python environment\\netflix_project\\venv\\lib\\site-packages (from dash) (4.14.0)\n",
      "Requirement already satisfied: requests in c:\\users\\riyap\\onedrive\\my practice python environment\\netflix_project\\venv\\lib\\site-packages (from dash) (2.32.3)\n",
      "Requirement already satisfied: retrying in c:\\users\\riyap\\onedrive\\my practice python environment\\netflix_project\\venv\\lib\\site-packages (from dash) (1.3.4)\n",
      "Requirement already satisfied: nest-asyncio in c:\\users\\riyap\\onedrive\\my practice python environment\\netflix_project\\venv\\lib\\site-packages (from dash) (1.6.0)\n",
      "Requirement already satisfied: setuptools in c:\\users\\riyap\\onedrive\\my practice python environment\\netflix_project\\venv\\lib\\site-packages (from dash) (80.9.0)\n",
      "Requirement already satisfied: Jinja2>=3.1.2 in c:\\users\\riyap\\onedrive\\my practice python environment\\netflix_project\\venv\\lib\\site-packages (from Flask<3.1,>=1.0.4->dash) (3.1.6)\n",
      "Requirement already satisfied: itsdangerous>=2.1.2 in c:\\users\\riyap\\onedrive\\my practice python environment\\netflix_project\\venv\\lib\\site-packages (from Flask<3.1,>=1.0.4->dash) (2.2.0)\n",
      "Requirement already satisfied: click>=8.1.3 in c:\\users\\riyap\\onedrive\\my practice python environment\\netflix_project\\venv\\lib\\site-packages (from Flask<3.1,>=1.0.4->dash) (8.2.1)\n",
      "Requirement already satisfied: blinker>=1.6.2 in c:\\users\\riyap\\onedrive\\my practice python environment\\netflix_project\\venv\\lib\\site-packages (from Flask<3.1,>=1.0.4->dash) (1.9.0)\n",
      "Requirement already satisfied: MarkupSafe>=2.1.1 in c:\\users\\riyap\\onedrive\\my practice python environment\\netflix_project\\venv\\lib\\site-packages (from Werkzeug<3.1->dash) (3.0.2)\n",
      "Requirement already satisfied: colorama in c:\\users\\riyap\\onedrive\\my practice python environment\\netflix_project\\venv\\lib\\site-packages (from click>=8.1.3->Flask<3.1,>=1.0.4->dash) (0.4.6)\n",
      "Requirement already satisfied: narwhals>=1.15.1 in c:\\users\\riyap\\onedrive\\my practice python environment\\netflix_project\\venv\\lib\\site-packages (from plotly>=5.0.0->dash) (1.41.1)\n",
      "Requirement already satisfied: packaging in c:\\users\\riyap\\onedrive\\my practice python environment\\netflix_project\\venv\\lib\\site-packages (from plotly>=5.0.0->dash) (25.0)\n",
      "Requirement already satisfied: zipp>=3.20 in c:\\users\\riyap\\onedrive\\my practice python environment\\netflix_project\\venv\\lib\\site-packages (from importlib-metadata->dash) (3.22.0)\n",
      "Requirement already satisfied: charset-normalizer<4,>=2 in c:\\users\\riyap\\onedrive\\my practice python environment\\netflix_project\\venv\\lib\\site-packages (from requests->dash) (3.4.2)\n",
      "Requirement already satisfied: idna<4,>=2.5 in c:\\users\\riyap\\onedrive\\my practice python environment\\netflix_project\\venv\\lib\\site-packages (from requests->dash) (3.10)\n",
      "Requirement already satisfied: urllib3<3,>=1.21.1 in c:\\users\\riyap\\onedrive\\my practice python environment\\netflix_project\\venv\\lib\\site-packages (from requests->dash) (2.4.0)\n",
      "Requirement already satisfied: certifi>=2017.4.17 in c:\\users\\riyap\\onedrive\\my practice python environment\\netflix_project\\venv\\lib\\site-packages (from requests->dash) (2025.4.26)\n",
      "Requirement already satisfied: six>=1.7.0 in c:\\users\\riyap\\onedrive\\my practice python environment\\netflix_project\\venv\\lib\\site-packages (from retrying->dash) (1.17.0)\n"
     ]
    }
   ],
   "source": [
    "! pip install dash"
   ]
  }
 ],
 "metadata": {
  "kernelspec": {
   "display_name": "venv",
   "language": "python",
   "name": "python3"
  },
  "language_info": {
   "codemirror_mode": {
    "name": "ipython",
    "version": 3
   },
   "file_extension": ".py",
   "mimetype": "text/x-python",
   "name": "python",
   "nbconvert_exporter": "python",
   "pygments_lexer": "ipython3",
   "version": "3.12.7"
  }
 },
 "nbformat": 4,
 "nbformat_minor": 5
}
